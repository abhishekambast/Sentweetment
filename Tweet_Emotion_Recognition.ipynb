{
 "cells": [
  {
   "cell_type": "markdown",
   "metadata": {
    "id": "cprXxkrMxIgT"
   },
   "source": [
    "##  Setup and Imports\n",
    "\n"
   ]
  },
  {
   "cell_type": "code",
   "execution_count": 1,
   "metadata": {
    "colab": {
     "base_uri": "https://localhost:8080/"
    },
    "id": "5agZRy-45i0g",
    "outputId": "95d44190-76d9-4663-faa5-b732a4fa6ba1"
   },
   "outputs": [
    {
     "name": "stdout",
     "output_type": "stream",
     "text": [
      "Requirement already satisfied: nlp in c:\\users\\abhishek ambast\\anaconda3\\lib\\site-packages (0.4.0)\n",
      "Requirement already satisfied: requests>=2.19.0 in c:\\users\\abhishek ambast\\anaconda3\\lib\\site-packages (from nlp) (2.25.1)\n",
      "Requirement already satisfied: filelock in c:\\users\\abhishek ambast\\anaconda3\\lib\\site-packages (from nlp) (3.0.12)\n",
      "Requirement already satisfied: numpy in c:\\users\\abhishek ambast\\anaconda3\\lib\\site-packages (from nlp) (1.23.5)\n",
      "Requirement already satisfied: tqdm>=4.27 in c:\\users\\abhishek ambast\\anaconda3\\lib\\site-packages (from nlp) (4.65.0)\n",
      "Requirement already satisfied: pyarrow>=0.16.0 in c:\\users\\abhishek ambast\\anaconda3\\lib\\site-packages (from nlp) (12.0.1)\n",
      "Requirement already satisfied: xxhash in c:\\users\\abhishek ambast\\anaconda3\\lib\\site-packages (from nlp) (3.2.0)\n",
      "Requirement already satisfied: dill in c:\\users\\abhishek ambast\\anaconda3\\lib\\site-packages (from nlp) (0.3.6)\n",
      "Requirement already satisfied: pandas in c:\\users\\abhishek ambast\\anaconda3\\lib\\site-packages (from nlp) (1.2.4)\n",
      "Requirement already satisfied: urllib3<1.27,>=1.21.1 in c:\\users\\abhishek ambast\\anaconda3\\lib\\site-packages (from requests>=2.19.0->nlp) (1.26.4)\n",
      "Requirement already satisfied: chardet<5,>=3.0.2 in c:\\users\\abhishek ambast\\anaconda3\\lib\\site-packages (from requests>=2.19.0->nlp) (4.0.0)\n",
      "Requirement already satisfied: idna<3,>=2.5 in c:\\users\\abhishek ambast\\anaconda3\\lib\\site-packages (from requests>=2.19.0->nlp) (2.10)\n",
      "Requirement already satisfied: certifi>=2017.4.17 in c:\\users\\abhishek ambast\\anaconda3\\lib\\site-packages (from requests>=2.19.0->nlp) (2020.12.5)\n",
      "Requirement already satisfied: colorama in c:\\users\\abhishek ambast\\anaconda3\\lib\\site-packages (from tqdm>=4.27->nlp) (0.4.4)\n",
      "Requirement already satisfied: pytz>=2017.3 in c:\\users\\abhishek ambast\\anaconda3\\lib\\site-packages (from pandas->nlp) (2021.1)\n",
      "Requirement already satisfied: python-dateutil>=2.7.3 in c:\\users\\abhishek ambast\\anaconda3\\lib\\site-packages (from pandas->nlp) (2.8.1)\n",
      "Requirement already satisfied: six>=1.5 in c:\\users\\abhishek ambast\\anaconda3\\lib\\site-packages (from python-dateutil>=2.7.3->pandas->nlp) (1.15.0)\n"
     ]
    }
   ],
   "source": [
    "!pip install nlp"
   ]
  },
  {
   "cell_type": "code",
   "execution_count": 2,
   "metadata": {
    "colab": {
     "base_uri": "https://localhost:8080/"
    },
    "id": "yKFjWz6e5eiH",
    "outputId": "cf38650b-d517-4bba-f25c-b4a16f8aa733"
   },
   "outputs": [
    {
     "name": "stdout",
     "output_type": "stream",
     "text": [
      "Using TensorFlow version 2.12.0\n"
     ]
    }
   ],
   "source": [
    "%matplotlib inline\n",
    "\n",
    "import tensorflow as tf\n",
    "import numpy as np\n",
    "import matplotlib.pyplot as plt\n",
    "import nlp\n",
    "import random\n",
    "\n",
    "\n",
    "\n",
    "def show_history(h):\n",
    "    epochs_trained = len(h.history['loss'])\n",
    "    plt.figure(figsize=(16, 6))\n",
    "\n",
    "    plt.subplot(1, 2, 1)\n",
    "    plt.plot(range(0, epochs_trained), h.history.get('accuracy'), label='Training')\n",
    "    plt.plot(range(0, epochs_trained), h.history.get('val_accuracy'), label='Validation')\n",
    "    plt.ylim([0., 1.])\n",
    "    plt.xlabel('Epochs')\n",
    "    plt.ylabel('Accuracy')\n",
    "    plt.legend()\n",
    "\n",
    "    plt.subplot(1, 2, 2)\n",
    "    plt.plot(range(0, epochs_trained), h.history.get('loss'), label='Training')\n",
    "    plt.plot(range(0, epochs_trained), h.history.get('val_loss'), label='Validation')\n",
    "    plt.xlabel('Epochs')\n",
    "    plt.ylabel('Loss')\n",
    "    plt.legend()\n",
    "    plt.show()\n",
    "\n",
    "\n",
    "def show_confusion_matrix(y_true, y_pred, classes):\n",
    "    from sklearn.metrics import confusion_matrix\n",
    "\n",
    "    cm = confusion_matrix(y_true, y_pred, normalize='true')\n",
    "\n",
    "    plt.figure(figsize=(8, 8))\n",
    "    sp = plt.subplot(1, 1, 1)\n",
    "    ctx = sp.matshow(cm)\n",
    "    plt.xticks(list(range(0, 6)), labels=classes)\n",
    "    plt.yticks(list(range(0, 6)), labels=classes)\n",
    "    plt.colorbar(ctx)\n",
    "    plt.show()\n",
    "\n",
    "\n",
    "print('Using TensorFlow version', tf.__version__)"
   ]
  },
  {
   "cell_type": "markdown",
   "metadata": {
    "id": "7JsBpezExIga"
   },
   "source": [
    "## Importing Data\n",
    "\n",
    "1. Importing the Tweet Emotion dataset\n",
    "2. Creating train, validation and test sets\n",
    "3. Extracting tweets and labels from the examples"
   ]
  },
  {
   "cell_type": "code",
   "execution_count": 3,
   "metadata": {},
   "outputs": [
    {
     "name": "stdout",
     "output_type": "stream",
     "text": [
      "Requirement already satisfied: datasets in c:\\users\\abhishek ambast\\anaconda3\\lib\\site-packages (2.13.1)\n",
      "Requirement already satisfied: numpy>=1.17 in c:\\users\\abhishek ambast\\anaconda3\\lib\\site-packages (from datasets) (1.23.5)\n",
      "Requirement already satisfied: aiohttp in c:\\users\\abhishek ambast\\anaconda3\\lib\\site-packages (from datasets) (3.8.4)\n",
      "Requirement already satisfied: pyyaml>=5.1 in c:\\users\\abhishek ambast\\anaconda3\\lib\\site-packages (from datasets) (5.4.1)\n",
      "Requirement already satisfied: fsspec[http]>=2021.11.1 in c:\\users\\abhishek ambast\\anaconda3\\lib\\site-packages (from datasets) (2023.6.0)\n",
      "Requirement already satisfied: pandas in c:\\users\\abhishek ambast\\anaconda3\\lib\\site-packages (from datasets) (1.2.4)\n",
      "Requirement already satisfied: packaging in c:\\users\\abhishek ambast\\anaconda3\\lib\\site-packages (from datasets) (20.9)\n",
      "Requirement already satisfied: dill<0.3.7,>=0.3.0 in c:\\users\\abhishek ambast\\anaconda3\\lib\\site-packages (from datasets) (0.3.6)\n",
      "Requirement already satisfied: requests>=2.19.0 in c:\\users\\abhishek ambast\\anaconda3\\lib\\site-packages (from datasets) (2.25.1)\n",
      "Requirement already satisfied: pyarrow>=8.0.0 in c:\\users\\abhishek ambast\\anaconda3\\lib\\site-packages (from datasets) (12.0.1)\n",
      "Requirement already satisfied: xxhash in c:\\users\\abhishek ambast\\anaconda3\\lib\\site-packages (from datasets) (3.2.0)\n",
      "Requirement already satisfied: huggingface-hub<1.0.0,>=0.11.0 in c:\\users\\abhishek ambast\\anaconda3\\lib\\site-packages (from datasets) (0.16.4)\n",
      "Requirement already satisfied: multiprocess in c:\\users\\abhishek ambast\\anaconda3\\lib\\site-packages (from datasets) (0.70.14)\n",
      "Requirement already satisfied: tqdm>=4.62.1 in c:\\users\\abhishek ambast\\anaconda3\\lib\\site-packages (from datasets) (4.65.0)\n",
      "Requirement already satisfied: yarl<2.0,>=1.0 in c:\\users\\abhishek ambast\\anaconda3\\lib\\site-packages (from aiohttp->datasets) (1.9.2)\n",
      "Requirement already satisfied: charset-normalizer<4.0,>=2.0 in c:\\users\\abhishek ambast\\anaconda3\\lib\\site-packages (from aiohttp->datasets) (3.2.0)\n",
      "Requirement already satisfied: frozenlist>=1.1.1 in c:\\users\\abhishek ambast\\anaconda3\\lib\\site-packages (from aiohttp->datasets) (1.3.3)\n",
      "Requirement already satisfied: aiosignal>=1.1.2 in c:\\users\\abhishek ambast\\anaconda3\\lib\\site-packages (from aiohttp->datasets) (1.3.1)\n",
      "Requirement already satisfied: multidict<7.0,>=4.5 in c:\\users\\abhishek ambast\\anaconda3\\lib\\site-packages (from aiohttp->datasets) (6.0.4)\n",
      "Requirement already satisfied: async-timeout<5.0,>=4.0.0a3 in c:\\users\\abhishek ambast\\anaconda3\\lib\\site-packages (from aiohttp->datasets) (4.0.2)\n",
      "Requirement already satisfied: attrs>=17.3.0 in c:\\users\\abhishek ambast\\anaconda3\\lib\\site-packages (from aiohttp->datasets) (20.3.0)\n",
      "Requirement already satisfied: filelock in c:\\users\\abhishek ambast\\anaconda3\\lib\\site-packages (from huggingface-hub<1.0.0,>=0.11.0->datasets) (3.0.12)\n",
      "Requirement already satisfied: typing-extensions>=3.7.4.3 in c:\\users\\abhishek ambast\\anaconda3\\lib\\site-packages (from huggingface-hub<1.0.0,>=0.11.0->datasets) (4.7.0)\n",
      "Requirement already satisfied: pyparsing>=2.0.2 in c:\\users\\abhishek ambast\\anaconda3\\lib\\site-packages (from packaging->datasets) (2.4.7)\n",
      "Requirement already satisfied: idna<3,>=2.5 in c:\\users\\abhishek ambast\\anaconda3\\lib\\site-packages (from requests>=2.19.0->datasets) (2.10)\n",
      "Requirement already satisfied: certifi>=2017.4.17 in c:\\users\\abhishek ambast\\anaconda3\\lib\\site-packages (from requests>=2.19.0->datasets) (2020.12.5)\n",
      "Requirement already satisfied: urllib3<1.27,>=1.21.1 in c:\\users\\abhishek ambast\\anaconda3\\lib\\site-packages (from requests>=2.19.0->datasets) (1.26.4)\n",
      "Requirement already satisfied: chardet<5,>=3.0.2 in c:\\users\\abhishek ambast\\anaconda3\\lib\\site-packages (from requests>=2.19.0->datasets) (4.0.0)\n",
      "Requirement already satisfied: colorama in c:\\users\\abhishek ambast\\anaconda3\\lib\\site-packages (from tqdm>=4.62.1->datasets) (0.4.4)\n",
      "Requirement already satisfied: python-dateutil>=2.7.3 in c:\\users\\abhishek ambast\\anaconda3\\lib\\site-packages (from pandas->datasets) (2.8.1)\n",
      "Requirement already satisfied: pytz>=2017.3 in c:\\users\\abhishek ambast\\anaconda3\\lib\\site-packages (from pandas->datasets) (2021.1)\n",
      "Requirement already satisfied: six>=1.5 in c:\\users\\abhishek ambast\\anaconda3\\lib\\site-packages (from python-dateutil>=2.7.3->pandas->datasets) (1.15.0)\n"
     ]
    }
   ],
   "source": [
    "!pip install -U datasets"
   ]
  },
  {
   "cell_type": "code",
   "execution_count": 4,
   "metadata": {
    "id": "0YHOvjAu5eiL"
   },
   "outputs": [],
   "source": [
    "import pandas as pd\n",
    "import numpy as np\n",
    "\n"
   ]
  },
  {
   "cell_type": "code",
   "execution_count": null,
   "metadata": {
    "id": "2s0h541FxIgc"
   },
   "outputs": [],
   "source": []
  },
  {
   "cell_type": "code",
   "execution_count": 5,
   "metadata": {
    "id": "z7eCnxU25eiN"
   },
   "outputs": [],
   "source": [
    "train=pd.read_csv(\"archive/training.csv\")"
   ]
  },
  {
   "cell_type": "code",
   "execution_count": 6,
   "metadata": {
    "id": "oDYXMfZy5eiP"
   },
   "outputs": [],
   "source": [
    "test=pd.read_csv(\"archive/test.csv\")"
   ]
  },
  {
   "cell_type": "code",
   "execution_count": 7,
   "metadata": {
    "id": "jeq3-vSB5eiR"
   },
   "outputs": [],
   "source": [
    "validation=pd.read_csv(\"archive/validation.csv\")"
   ]
  },
  {
   "cell_type": "code",
   "execution_count": 8,
   "metadata": {
    "id": "bHD3Tk0J5eiU"
   },
   "outputs": [
    {
     "name": "stdout",
     "output_type": "stream",
     "text": [
      "<class 'pandas.core.frame.DataFrame'>\n",
      "RangeIndex: 16000 entries, 0 to 15999\n",
      "Data columns (total 2 columns):\n",
      " #   Column  Non-Null Count  Dtype \n",
      "---  ------  --------------  ----- \n",
      " 0   text    16000 non-null  object\n",
      " 1   label   16000 non-null  int64 \n",
      "dtypes: int64(1), object(1)\n",
      "memory usage: 250.1+ KB\n"
     ]
    }
   ],
   "source": [
    "train.info()"
   ]
  },
  {
   "cell_type": "code",
   "execution_count": 9,
   "metadata": {},
   "outputs": [
    {
     "name": "stdout",
     "output_type": "stream",
     "text": [
      "<class 'pandas.core.frame.DataFrame'>\n",
      "RangeIndex: 2000 entries, 0 to 1999\n",
      "Data columns (total 2 columns):\n",
      " #   Column  Non-Null Count  Dtype \n",
      "---  ------  --------------  ----- \n",
      " 0   text    2000 non-null   object\n",
      " 1   label   2000 non-null   int64 \n",
      "dtypes: int64(1), object(1)\n",
      "memory usage: 31.4+ KB\n"
     ]
    }
   ],
   "source": [
    "validation.info()"
   ]
  },
  {
   "cell_type": "code",
   "execution_count": 10,
   "metadata": {},
   "outputs": [
    {
     "name": "stdout",
     "output_type": "stream",
     "text": [
      "<class 'pandas.core.frame.DataFrame'>\n",
      "RangeIndex: 2000 entries, 0 to 1999\n",
      "Data columns (total 2 columns):\n",
      " #   Column  Non-Null Count  Dtype \n",
      "---  ------  --------------  ----- \n",
      " 0   text    2000 non-null   object\n",
      " 1   label   2000 non-null   int64 \n",
      "dtypes: int64(1), object(1)\n",
      "memory usage: 31.4+ KB\n"
     ]
    }
   ],
   "source": [
    "test.info()"
   ]
  },
  {
   "cell_type": "code",
   "execution_count": 11,
   "metadata": {},
   "outputs": [
    {
     "data": {
      "text/html": [
       "<div>\n",
       "<style scoped>\n",
       "    .dataframe tbody tr th:only-of-type {\n",
       "        vertical-align: middle;\n",
       "    }\n",
       "\n",
       "    .dataframe tbody tr th {\n",
       "        vertical-align: top;\n",
       "    }\n",
       "\n",
       "    .dataframe thead th {\n",
       "        text-align: right;\n",
       "    }\n",
       "</style>\n",
       "<table border=\"1\" class=\"dataframe\">\n",
       "  <thead>\n",
       "    <tr style=\"text-align: right;\">\n",
       "      <th></th>\n",
       "      <th>text</th>\n",
       "      <th>label</th>\n",
       "    </tr>\n",
       "  </thead>\n",
       "  <tbody>\n",
       "    <tr>\n",
       "      <th>0</th>\n",
       "      <td>i didnt feel humiliated</td>\n",
       "      <td>0</td>\n",
       "    </tr>\n",
       "    <tr>\n",
       "      <th>1</th>\n",
       "      <td>i can go from feeling so hopeless to so damned...</td>\n",
       "      <td>0</td>\n",
       "    </tr>\n",
       "    <tr>\n",
       "      <th>2</th>\n",
       "      <td>im grabbing a minute to post i feel greedy wrong</td>\n",
       "      <td>3</td>\n",
       "    </tr>\n",
       "    <tr>\n",
       "      <th>3</th>\n",
       "      <td>i am ever feeling nostalgic about the fireplac...</td>\n",
       "      <td>2</td>\n",
       "    </tr>\n",
       "    <tr>\n",
       "      <th>4</th>\n",
       "      <td>i am feeling grouchy</td>\n",
       "      <td>3</td>\n",
       "    </tr>\n",
       "  </tbody>\n",
       "</table>\n",
       "</div>"
      ],
      "text/plain": [
       "                                                text  label\n",
       "0                            i didnt feel humiliated      0\n",
       "1  i can go from feeling so hopeless to so damned...      0\n",
       "2   im grabbing a minute to post i feel greedy wrong      3\n",
       "3  i am ever feeling nostalgic about the fireplac...      2\n",
       "4                               i am feeling grouchy      3"
      ]
     },
     "execution_count": 11,
     "metadata": {},
     "output_type": "execute_result"
    }
   ],
   "source": [
    "train.head()"
   ]
  },
  {
   "cell_type": "code",
   "execution_count": 12,
   "metadata": {},
   "outputs": [],
   "source": [
    "def get_tweet(data):\n",
    "    tweets=data['text'].tolist()\n",
    "    labels=data['label'].tolist()\n",
    "    \n",
    "    return np.array(tweets),np.array(labels)\n",
    "  "
   ]
  },
  {
   "cell_type": "code",
   "execution_count": 109,
   "metadata": {},
   "outputs": [
    {
     "data": {
      "text/plain": [
       "array(['i didnt feel humiliated',\n",
       "       'i can go from feeling so hopeless to so damned hopeful just from being around someone who cares and is awake',\n",
       "       'im grabbing a minute to post i feel greedy wrong', ...,\n",
       "       'i feel strong and good overall',\n",
       "       'i feel like this was such a rude comment and im glad that t',\n",
       "       'i know a lot but i feel so stupid because i can not portray it'],\n",
       "      dtype='<U300')"
      ]
     },
     "execution_count": 109,
     "metadata": {},
     "output_type": "execute_result"
    }
   ],
   "source": [
    "tweets,labels=get_tweet(train)\n",
    "tweets"
   ]
  },
  {
   "cell_type": "code",
   "execution_count": 14,
   "metadata": {},
   "outputs": [
    {
     "name": "stdout",
     "output_type": "stream",
     "text": [
      "i didnt feel humiliated 0\n",
      "\n",
      "\n",
      "i can go from feeling so hopeless to so damned hopeful just from being around someone who cares and is awake 0\n",
      "\n",
      "\n",
      "im grabbing a minute to post i feel greedy wrong 3\n",
      "\n",
      "\n",
      "i am ever feeling nostalgic about the fireplace i will know that it is still on the property 2\n",
      "\n",
      "\n",
      "i am feeling grouchy 3\n",
      "\n",
      "\n",
      "ive been feeling a little burdened lately wasnt sure why that was 0\n",
      "\n",
      "\n",
      "ive been taking or milligrams or times recommended amount and ive fallen asleep a lot faster but i also feel like so funny 5\n",
      "\n",
      "\n",
      "i feel as confused about life as a teenager or as jaded as a year old man 4\n",
      "\n",
      "\n",
      "i have been with petronas for years i feel that petronas has performed well and made a huge profit 1\n",
      "\n",
      "\n",
      "i feel romantic too 2\n",
      "\n",
      "\n"
     ]
    }
   ],
   "source": [
    "for i in range(10):\n",
    "    print(tweets[i],labels[i])\n",
    "    print('\\n')\n"
   ]
  },
  {
   "cell_type": "markdown",
   "metadata": {
    "id": "gcAflLv6xIgp"
   },
   "source": []
  },
  {
   "cell_type": "code",
   "execution_count": null,
   "metadata": {
    "id": "qfX5-ResxIgq"
   },
   "outputs": [],
   "source": []
  },
  {
   "cell_type": "code",
   "execution_count": null,
   "metadata": {
    "id": "cckUvwBo5eif"
   },
   "outputs": [],
   "source": []
  },
  {
   "cell_type": "code",
   "execution_count": null,
   "metadata": {
    "scrolled": true
   },
   "outputs": [],
   "source": []
  },
  {
   "cell_type": "code",
   "execution_count": null,
   "metadata": {},
   "outputs": [],
   "source": []
  },
  {
   "cell_type": "code",
   "execution_count": null,
   "metadata": {},
   "outputs": [],
   "source": []
  },
  {
   "cell_type": "code",
   "execution_count": null,
   "metadata": {},
   "outputs": [],
   "source": []
  },
  {
   "cell_type": "markdown",
   "metadata": {
    "id": "i3Bqm7b2xIgu"
   },
   "source": [
    "## Tokenizer, Padding and Truncating Sequences\n",
    "\n"
   ]
  },
  {
   "cell_type": "code",
   "execution_count": null,
   "metadata": {},
   "outputs": [],
   "source": []
  },
  {
   "cell_type": "code",
   "execution_count": 57,
   "metadata": {
    "id": "mLvf_WFZxIgu"
   },
   "outputs": [],
   "source": [
    "def get_seq(tweets,tokenizer):\n",
    "    maxlen=40\n",
    "    \n",
    "    from tensorflow.keras.preprocessing.sequence import pad_sequences\n",
    "    \n",
    "    train_sequences = tokenizer.texts_to_sequences(tweets)\n",
    "    train_padded = pad_sequences(train_sequences, padding='post', truncating='post', maxlen=maxlen)\n",
    "    return np.array(train_padded)"
   ]
  },
  {
   "cell_type": "code",
   "execution_count": 58,
   "metadata": {
    "id": "EOi5lIE3xIgx"
   },
   "outputs": [],
   "source": [
    "from tensorflow.keras.preprocessing.text import Tokenizer\n",
    "tokenizer=Tokenizer(num_words=10000,oov_token='<UNK>',)\n",
    "tokenizer.fit_on_texts(tweets)\n",
    "train_seq=get_seq(tweets,tokenizer)"
   ]
  },
  {
   "cell_type": "code",
   "execution_count": 59,
   "metadata": {
    "id": "Q9J_Iemf5eiq"
   },
   "outputs": [],
   "source": [
    "train_seq=train_seq"
   ]
  },
  {
   "cell_type": "code",
   "execution_count": 60,
   "metadata": {
    "id": "eglH77ky5ei0"
   },
   "outputs": [],
   "source": [
    "tweets_val,labels_val=get_tweet(validation)"
   ]
  },
  {
   "cell_type": "code",
   "execution_count": 61,
   "metadata": {
    "id": "iGR473HA5ei7"
   },
   "outputs": [],
   "source": [
    "val_seq=get_seq(tweets_val,tokenizer)"
   ]
  },
  {
   "cell_type": "markdown",
   "metadata": {
    "id": "BURhOX_KxIg8"
   },
   "source": [
    "## Visualization"
   ]
  },
  {
   "cell_type": "code",
   "execution_count": 62,
   "metadata": {
    "id": "SufT2bpD5ejE"
   },
   "outputs": [
    {
     "data": {
      "text/plain": [
       "('im feeling quite sad and sorry for myself but ill snap out of it soon', 0)"
      ]
     },
     "execution_count": 62,
     "metadata": {},
     "output_type": "execute_result"
    }
   ],
   "source": [
    "tweets_val[0],labels_val[0]"
   ]
  },
  {
   "cell_type": "code",
   "execution_count": 63,
   "metadata": {
    "id": "rpwzL88I7YSm"
   },
   "outputs": [
    {
     "data": {
      "text/plain": [
       "('i didnt feel humiliated', 0)"
      ]
     },
     "execution_count": 63,
     "metadata": {},
     "output_type": "execute_result"
    }
   ],
   "source": [
    "tweets[0],labels[0]"
   ]
  },
  {
   "cell_type": "code",
   "execution_count": 64,
   "metadata": {
    "id": "dNLF6rXL5ejN"
   },
   "outputs": [
    {
     "data": {
      "text/plain": [
       "(array([4666.,    0.,    0.,    0., 5362.,    0.,    0.,    0., 1304.,\n",
       "           0.,    0.,    0., 2159.,    0.,    0.,    0., 1937.,    0.,\n",
       "           0.,  572.]),\n",
       " array([0.  , 0.25, 0.5 , 0.75, 1.  , 1.25, 1.5 , 1.75, 2.  , 2.25, 2.5 ,\n",
       "        2.75, 3.  , 3.25, 3.5 , 3.75, 4.  , 4.25, 4.5 , 4.75, 5.  ]),\n",
       " <BarContainer object of 20 artists>)"
      ]
     },
     "execution_count": 64,
     "metadata": {},
     "output_type": "execute_result"
    },
    {
     "data": {
      "image/png": "[encoded data removed]",
      "text/plain": [
       "<Figure size 432x288 with 1 Axes>"
      ]
     },
     "metadata": {
      "needs_background": "light"
     },
     "output_type": "display_data"
    }
   ],
   "source": [
    "plt.hist(labels,bins=20)"
   ]
  },
  {
   "cell_type": "code",
   "execution_count": 65,
   "metadata": {
    "id": "_08InVyM5ejc"
   },
   "outputs": [
    {
     "data": {
      "text/plain": [
       "(array([550.,   0.,   0.,   0., 704.,   0.,   0.,   0., 178.,   0.,   0.,\n",
       "          0., 275.,   0.,   0.,   0., 212.,   0.,   0.,  81.]),\n",
       " array([0.  , 0.25, 0.5 , 0.75, 1.  , 1.25, 1.5 , 1.75, 2.  , 2.25, 2.5 ,\n",
       "        2.75, 3.  , 3.25, 3.5 , 3.75, 4.  , 4.25, 4.5 , 4.75, 5.  ]),\n",
       " <BarContainer object of 20 artists>)"
      ]
     },
     "execution_count": 65,
     "metadata": {},
     "output_type": "execute_result"
    },
    {
     "data": {
      "image/png": "[encoded data removed]",
      "text/plain": [
       "<Figure size 432x288 with 1 Axes>"
      ]
     },
     "metadata": {
      "needs_background": "light"
     },
     "output_type": "display_data"
    }
   ],
   "source": [
    "plt.hist(labels_val,bins=20)"
   ]
  },
  {
   "cell_type": "code",
   "execution_count": 66,
   "metadata": {
    "id": "gpeDoA6gxIhE"
   },
   "outputs": [
    {
     "data": {
      "text/plain": [
       "(array([ 17,   8, 157, 260,   4, 343,  16,  51,  19, 212,   1,  50,  10,\n",
       "         13, 533,   0,   0,   0,   0,   0,   0,   0,   0,   0,   0,   0,\n",
       "          0,   0,   0,   0,   0,   0,   0,   0,   0,   0,   0,   0,   0,\n",
       "          0]),\n",
       " 0)"
      ]
     },
     "execution_count": 66,
     "metadata": {},
     "output_type": "execute_result"
    }
   ],
   "source": [
    "val_seq[0],labels_val[0]"
   ]
  },
  {
   "cell_type": "code",
   "execution_count": null,
   "metadata": {
    "id": "Jq0WJYsP5ejR"
   },
   "outputs": [],
   "source": []
  },
  {
   "cell_type": "code",
   "execution_count": null,
   "metadata": {
    "id": "v15KnrNC5ejW"
   },
   "outputs": [],
   "source": []
  },
  {
   "cell_type": "markdown",
   "metadata": {
    "id": "c-v0Mnh8xIhP"
   },
   "source": [
    "## Creating the Model\n",
    "\n",
    "1. Creating the model\n",
    "2. Compiling the model"
   ]
  },
  {
   "cell_type": "code",
   "execution_count": 67,
   "metadata": {},
   "outputs": [],
   "source": [
    "from tensorflow.keras.layers import Dense, Embedding, GlobalAveragePooling1D,Dropout"
   ]
  },
  {
   "cell_type": "code",
   "execution_count": 68,
   "metadata": {
    "id": "OpewXxPQ5eji"
   },
   "outputs": [],
   "source": [
    "import tensorflow.keras as keras\n",
    "from tensorflow.keras import layers"
   ]
  },
  {
   "cell_type": "code",
   "execution_count": 94,
   "metadata": {},
   "outputs": [],
   "source": [
    "class Emotion(keras.Model):\n",
    "    \n",
    "\n",
    "    def __init__(self):\n",
    "        super().__init__()\n",
    "        self.embedding = Embedding(10000,16,input_length=40)\n",
    "        self.LSTM1 = layers.Bidirectional(layers.LSTM(20,  return_sequences=True))\n",
    "        self.LSTM2 = layers.Bidirectional(layers.LSTM(20))\n",
    "        self.dropout=Dropout(0.3)\n",
    "        self.dense = layers.Dense(6,activation='softmax')\n",
    "\n",
    "    def call(self, inputs,training=False):\n",
    "        x = self.embedding(inputs)\n",
    "        y=self.LSTM1(x)\n",
    "        z= self.LSTM2(y)\n",
    "        if training:\n",
    "            z = self.dropout(z,training=training)\n",
    "        result = self.dense(z)\n",
    "        return result\n",
    "        #return tf.math.argmax(result,axis=1,output_type=tf.dtypes.int64,)"
   ]
  },
  {
   "cell_type": "markdown",
   "metadata": {
    "id": "1HST_CHjxIhR"
   },
   "source": [
    "##  Training the Model\n",
    "\n",
    "1. Preparing a validation set\n",
    "2. Training the model"
   ]
  },
  {
   "cell_type": "code",
   "execution_count": 95,
   "metadata": {},
   "outputs": [],
   "source": [
    "#labels=labels.astype('int64')"
   ]
  },
  {
   "cell_type": "code",
   "execution_count": 100,
   "metadata": {
    "id": "Ff7F3hCK5ejm"
   },
   "outputs": [],
   "source": [
    "Emotion_model=Emotion()"
   ]
  },
  {
   "cell_type": "code",
   "execution_count": 101,
   "metadata": {},
   "outputs": [],
   "source": [
    "optimizer = keras.optimizers.Adam(1e-3)\n",
    "Emotion_model.compile(optimizer, loss=\"sparse_categorical_crossentropy\",metrics=['accuracy'])"
   ]
  },
  {
   "cell_type": "code",
   "execution_count": 98,
   "metadata": {},
   "outputs": [],
   "source": [
    "Earlystopping=tf.keras.callbacks.EarlyStopping(monitor=\"val_accuracy\", patience=3,verbose=2,mode=\"max\",)"
   ]
  },
  {
   "cell_type": "code",
   "execution_count": 102,
   "metadata": {
    "id": "hlMKaZ3H5ejr"
   },
   "outputs": [
    {
     "name": "stdout",
     "output_type": "stream",
     "text": [
      "Epoch 1/20\n",
      "500/500 - 35s - loss: 1.3157 - accuracy: 0.4764 - val_loss: 0.7724 - val_accuracy: 0.7105 - 35s/epoch - 70ms/step\n",
      "Epoch 2/20\n",
      "500/500 - 21s - loss: 0.6314 - accuracy: 0.7488 - val_loss: 0.6294 - val_accuracy: 0.7735 - 21s/epoch - 43ms/step\n",
      "Epoch 3/20\n",
      "500/500 - 21s - loss: 0.4579 - accuracy: 0.8274 - val_loss: 0.5354 - val_accuracy: 0.8225 - 21s/epoch - 41ms/step\n",
      "Epoch 4/20\n",
      "500/500 - 21s - loss: 0.3014 - accuracy: 0.9015 - val_loss: 0.4740 - val_accuracy: 0.8675 - 21s/epoch - 43ms/step\n",
      "Epoch 5/20\n",
      "500/500 - 14s - loss: 0.2159 - accuracy: 0.9337 - val_loss: 0.4339 - val_accuracy: 0.8765 - 14s/epoch - 28ms/step\n",
      "Epoch 6/20\n",
      "500/500 - 12s - loss: 0.1714 - accuracy: 0.9475 - val_loss: 0.4129 - val_accuracy: 0.8760 - 12s/epoch - 23ms/step\n",
      "Epoch 7/20\n",
      "500/500 - 12s - loss: 0.1294 - accuracy: 0.9606 - val_loss: 0.4619 - val_accuracy: 0.8800 - 12s/epoch - 24ms/step\n",
      "Epoch 8/20\n",
      "500/500 - 12s - loss: 0.1176 - accuracy: 0.9634 - val_loss: 0.4327 - val_accuracy: 0.8835 - 12s/epoch - 24ms/step\n",
      "Epoch 9/20\n",
      "500/500 - 12s - loss: 0.1047 - accuracy: 0.9681 - val_loss: 0.4560 - val_accuracy: 0.8830 - 12s/epoch - 24ms/step\n",
      "Epoch 10/20\n",
      "500/500 - 12s - loss: 0.0780 - accuracy: 0.9766 - val_loss: 0.4710 - val_accuracy: 0.8930 - 12s/epoch - 24ms/step\n",
      "Epoch 11/20\n",
      "500/500 - 12s - loss: 0.0654 - accuracy: 0.9797 - val_loss: 0.5003 - val_accuracy: 0.8880 - 12s/epoch - 24ms/step\n",
      "Epoch 12/20\n",
      "500/500 - 12s - loss: 0.0602 - accuracy: 0.9817 - val_loss: 0.5052 - val_accuracy: 0.8840 - 12s/epoch - 24ms/step\n",
      "Epoch 13/20\n",
      "500/500 - 13s - loss: 0.0557 - accuracy: 0.9827 - val_loss: 0.5745 - val_accuracy: 0.8865 - 13s/epoch - 25ms/step\n",
      "Epoch 14/20\n",
      "500/500 - 12s - loss: 0.0530 - accuracy: 0.9834 - val_loss: 0.5631 - val_accuracy: 0.8745 - 12s/epoch - 25ms/step\n",
      "Epoch 15/20\n",
      "500/500 - 12s - loss: 0.0569 - accuracy: 0.9833 - val_loss: 0.4895 - val_accuracy: 0.8930 - 12s/epoch - 25ms/step\n",
      "Epoch 16/20\n",
      "500/500 - 12s - loss: 0.0437 - accuracy: 0.9858 - val_loss: 0.5028 - val_accuracy: 0.8925 - 12s/epoch - 25ms/step\n",
      "Epoch 17/20\n",
      "500/500 - 12s - loss: 0.0400 - accuracy: 0.9868 - val_loss: 0.5666 - val_accuracy: 0.8880 - 12s/epoch - 25ms/step\n",
      "Epoch 18/20\n",
      "500/500 - 12s - loss: 0.0348 - accuracy: 0.9896 - val_loss: 0.5550 - val_accuracy: 0.8885 - 12s/epoch - 25ms/step\n",
      "Epoch 19/20\n",
      "500/500 - 13s - loss: 0.0384 - accuracy: 0.9871 - val_loss: 0.5107 - val_accuracy: 0.8935 - 13s/epoch - 26ms/step\n",
      "Epoch 20/20\n",
      "500/500 - 12s - loss: 0.0391 - accuracy: 0.9881 - val_loss: 0.4834 - val_accuracy: 0.8940 - 12s/epoch - 25ms/step\n"
     ]
    }
   ],
   "source": [
    "hist=Emotion_model.fit(train_seq,labels,verbose=2,validation_data=(val_seq,labels_val),epochs=20)"
   ]
  },
  {
   "cell_type": "code",
   "execution_count": null,
   "metadata": {
    "id": "bzBqnWQ-5ejw"
   },
   "outputs": [],
   "source": []
  },
  {
   "cell_type": "markdown",
   "metadata": {
    "id": "EdsJyMTLxIhX"
   },
   "source": [
    "##  Evaluating the Model\n",
    "\n",
    "1. Visualizing training history\n",
    "2. Prepraring a test set\n"
   ]
  },
  {
   "cell_type": "code",
   "execution_count": 103,
   "metadata": {
    "id": "ENCfvXeLxIhX"
   },
   "outputs": [],
   "source": [
    "test_tweets,test_labels=get_tweet(test)"
   ]
  },
  {
   "cell_type": "code",
   "execution_count": 104,
   "metadata": {
    "id": "kWuzoz8uxIha"
   },
   "outputs": [],
   "source": [
    "test_seq=get_seq(test_tweets,tokenizer)"
   ]
  },
  {
   "cell_type": "code",
   "execution_count": 105,
   "metadata": {
    "id": "7vRVJ_2SxIhc"
   },
   "outputs": [
    {
     "name": "stdout",
     "output_type": "stream",
     "text": [
      "63/63 [==============================] - 1s 9ms/step - loss: 0.5039 - accuracy: 0.8855\n"
     ]
    },
    {
     "data": {
      "text/plain": [
       "[0.5038781762123108, 0.8855000138282776]"
      ]
     },
     "execution_count": 105,
     "metadata": {},
     "output_type": "execute_result"
    }
   ],
   "source": [
    "Emotion_model.evaluate(test_seq,test_labels)"
   ]
  },
  {
   "cell_type": "code",
   "execution_count": null,
   "metadata": {
    "id": "rh638vHG5ej6"
   },
   "outputs": [],
   "source": []
  },
  {
   "cell_type": "code",
   "execution_count": 106,
   "metadata": {
    "id": "hHl5SVCFxIhh"
   },
   "outputs": [
    {
     "data": {
      "image/png": "[encoded data removed]",
      "text/plain": [
       "<Figure size 1152x432 with 2 Axes>"
      ]
     },
     "metadata": {
      "needs_background": "light"
     },
     "output_type": "display_data"
    }
   ],
   "source": [
    "show_history(hist)"
   ]
  },
  {
   "cell_type": "code",
   "execution_count": 127,
   "metadata": {
    "id": "NC8YQ0OexIhj"
   },
   "outputs": [],
   "source": [
    "statement=\"It was really and overwhelmig experience\"\n",
    "statement=[statement]\n",
    "seq=np.array(statement)\n",
    "\n"
   ]
  },
  {
   "cell_type": "code",
   "execution_count": 135,
   "metadata": {},
   "outputs": [],
   "source": [
    "seq1=get_seq(seq,tokenizer)\n",
    "def check_emotion(seq1):\n",
    "    model=Emotion()\n",
    "    dummy_input = tf.zeros((1, 40))  # Adjust the input shape if necessary\n",
    "    model(dummy_input)\n",
    "    model.load_weights(\"emotion_model_weights.h5\")\n",
    "    k=np.array(model.predict(seq1)).argmax()\n",
    "    if(k==0):\n",
    "        return \"It feels like you are sad, take a song and make it better\"\n",
    "    if(k==1):\n",
    "        return \"It feels like you are feeling happy, be forever like this\"\n",
    "    if(k==2):\n",
    "        return \"It feels like u r feeling love, amazing\"\n",
    "    if(k==3):\n",
    "        return \"It feels like you are angry, please calm down and don't take any decision when u are angry!\"\n",
    "    if(k==4):\n",
    "        return \"It feels like u r feeing feared, it's ok but do not let it over you for long time\"\n",
    "    if(k==5):\n",
    "        return \"It feels like you are feeling surprised!\"\n",
    "    "
   ]
  },
  {
   "cell_type": "code",
   "execution_count": 136,
   "metadata": {},
   "outputs": [
    {
     "name": "stdout",
     "output_type": "stream",
     "text": [
      "1/1 [==============================] - 1s 1s/step\n"
     ]
    },
    {
     "data": {
      "text/plain": [
       "'It feels like you are feeling happy, be forever like this'"
      ]
     },
     "execution_count": 136,
     "metadata": {},
     "output_type": "execute_result"
    }
   ],
   "source": [
    "check_emotion(seq1)"
   ]
  },
  {
   "cell_type": "code",
   "execution_count": 122,
   "metadata": {},
   "outputs": [],
   "source": [
    "Emotion_model.save_weights(\"emotion_model_weights.h5\")"
   ]
  },
  {
   "cell_type": "code",
   "execution_count": 143,
   "metadata": {},
   "outputs": [],
   "source": []
  },
  {
   "cell_type": "markdown",
   "metadata": {},
   "source": [
    "## Deploying on web"
   ]
  },
  {
   "cell_type": "code",
   "execution_count": 158,
   "metadata": {},
   "outputs": [
    {
     "name": "stdout",
     "output_type": "stream",
     "text": [
      "Overwriting app.py\n"
     ]
    }
   ],
   "source": [
    "%%writefile app.py\n",
    "\n",
    "\n",
    "\n",
    "\n",
    "import streamlit as st\n",
    "import numpy as np\n",
    "import tensorflow as tf\n",
    "import tensorflow.keras as keras\n",
    "import pandas as pd\n",
    "from tensorflow.keras.layers import Dense, Embedding, GlobalAveragePooling1D,Dropout\n",
    "\n",
    "from tensorflow.keras import layers\n",
    "\n",
    "\n",
    "train=pd.read_csv(\"archive/training.csv\")\n",
    "\n",
    "def get_tweet(data):\n",
    "    tweets=data['text'].tolist()\n",
    "    labels=data['label'].tolist()\n",
    "    \n",
    "    return np.array(tweets),np.array(labels)\n",
    "\n",
    "tweets,labels=get_tweet(train)\n",
    "\n",
    "def get_seq(tweets,tokenizer):\n",
    "    maxlen=40\n",
    "    \n",
    "    from tensorflow.keras.preprocessing.sequence import pad_sequences\n",
    "    \n",
    "    train_sequences = tokenizer.texts_to_sequences(tweets)\n",
    "    train_padded = pad_sequences(train_sequences, padding='post', truncating='post', maxlen=maxlen)\n",
    "    return np.array(train_padded)\n",
    "\n",
    "\n",
    "from tensorflow.keras.preprocessing.text import Tokenizer\n",
    "tokenizer=Tokenizer(num_words=10000,oov_token='<UNK>',)\n",
    "tokenizer.fit_on_texts(tweets)\n",
    "\n",
    "\n",
    "\n",
    "class Emotion(keras.Model):\n",
    "    \n",
    "\n",
    "    def __init__(self):\n",
    "        super().__init__()\n",
    "        self.embedding = Embedding(10000,16,input_length=40)\n",
    "        self.LSTM1 = layers.Bidirectional(layers.LSTM(20,  return_sequences=True))\n",
    "        self.LSTM2 = layers.Bidirectional(layers.LSTM(20))\n",
    "        self.dropout=Dropout(0.3)\n",
    "        self.dense = layers.Dense(6,activation='softmax')\n",
    "\n",
    "    def call(self, inputs,training=False):\n",
    "        x = self.embedding(inputs)\n",
    "        y=self.LSTM1(x)\n",
    "        z= self.LSTM2(y)\n",
    "        if training:\n",
    "            z = self.dropout(z,training=training)\n",
    "        result = self.dense(z)\n",
    "        return result\n",
    "    \n",
    "\n",
    "\n",
    "\n",
    "\n",
    "def check_emotion(seq1):\n",
    "    model=Emotion()\n",
    "    dummy_input = tf.zeros((1, 40))  # Adjust the input shape if necessary\n",
    "    model(dummy_input)\n",
    "    model.load_weights(\"emotion_model_weights.h5\")\n",
    "    k=np.array(model.predict(seq1)).argmax()\n",
    "    if(k==0):\n",
    "        return \"It feels like you are sad, take a song and make it better\"\n",
    "    if(k==1):\n",
    "        return \"It feels like you are feeling happy, be forever like this\"\n",
    "    if(k==2):\n",
    "        return \"It feels like u r feeling love, amazing\"\n",
    "    if(k==3):\n",
    "        return \"It feels like you are angry, please calm down and don't take any decision when u are angry!\"\n",
    "    if(k==4):\n",
    "        return \"It feels like u r feeing feared, it's ok but do not let it over you for long time\"\n",
    "    if(k==5):\n",
    "        return \"It feels like you are feeling surprised!\"\n",
    "    \n",
    "    \n",
    "st.title(\"Tweet Emotion Recognition\")\n",
    "st.write(\"Enter a tweet to predict the emotion:\")\n",
    "\n",
    "def add_bg_from_url():\n",
    "    st.markdown(\n",
    "         f\"\"\"\n",
    "         <style>\n",
    "         .stApp {{\n",
    "             background-image: url(\"https://c1.wallpaperflare.com/preview/944/1/109/depression-man-sadness-emotions.jpg\");\n",
    "             background-attachment: fixed;\n",
    "             background-size: cover\n",
    "         }}\n",
    "         </style>\n",
    "         \"\"\",\n",
    "         unsafe_allow_html=True\n",
    "     )\n",
    "\n",
    "add_bg_from_url() \n",
    "    \n",
    "@st.cache(allow_output_mutation=True)\n",
    "def load_curr_model():\n",
    "    with st.spinner('Model is being loaded..'):\n",
    "        model=Emotion()\n",
    "        dummy_input = tf.zeros((1, 40))\n",
    "        model(dummy_input)\n",
    "        model.load_weights(\"emotion_model_weights.h5\")\n",
    "        return model\n",
    "    \n",
    "   \n",
    "\n",
    "    # Get user input\n",
    "statement = st.text_input(\"\").lower()\n",
    "    \n",
    "\n",
    "\n",
    "\n",
    "    # Make a prediction when the user submits the input\n",
    "if st.button(\"Predict\"):\n",
    "    if statement.strip() != \"\":\n",
    "            # Predict the emotion\n",
    "        statement=[statement]\n",
    "        seq=np.array(statement)\n",
    "        seq1=get_seq(seq,tokenizer)\n",
    "        predicted_emotion = check_emotion(seq1)\n",
    "        st.success(f\"Predicted Emotion: {predicted_emotion}\")\n",
    "    else:\n",
    "        st.warning(\"Please enter some text.\")\n",
    "\n",
    "# Run the app\n",
    "\n",
    "\n",
    "\n",
    "\n",
    "st.write(\"\\n\\n By Abhishek Ambast.\")\n",
    "\n",
    "\n",
    "\n",
    "\n",
    "\n",
    "\n"
   ]
  },
  {
   "cell_type": "code",
   "execution_count": 159,
   "metadata": {},
   "outputs": [
    {
     "name": "stdout",
     "output_type": "stream",
     "text": [
      "^C\n"
     ]
    }
   ],
   "source": [
    "!streamlit run app.py"
   ]
  },
  {
   "cell_type": "code",
   "execution_count": null,
   "metadata": {},
   "outputs": [],
   "source": []
  }
 ],
 "metadata": {
  "accelerator": "GPU",
  "colab": {
   "provenance": []
  },
  "kernelspec": {
   "display_name": "Python 3",
   "language": "python",
   "name": "python3"
  },
  "language_info": {
   "codemirror_mode": {
    "name": "ipython",
    "version": 3
   },
   "file_extension": ".py",
   "mimetype": "text/x-python",
   "name": "python",
   "nbconvert_exporter": "python",
   "pygments_lexer": "ipython3",
   "version": "3.8.8"
  },
  "widgets": {
   "application/vnd.jupyter.widget-state+json": {
    "state": {
     "02834cd9b83d4f29a4984c53135ee014": {
      "model_module": "@jupyter-widgets/controls",
      "model_module_version": "1.5.0",
      "model_name": "DescriptionStyleModel",
      "state": {
       "description_width": ""
      }
     },
     "0bfa3e8091ee4287beb4f988c4235541": {
      "model_module": "@jupyter-widgets/base",
      "model_module_version": "1.2.0",
      "model_name": "LayoutModel",
      "state": {}
     },
     "17056ef8f74947dda0b02c1b5df69e26": {
      "model_module": "@jupyter-widgets/controls",
      "model_module_version": "1.5.0",
      "model_name": "HBoxModel",
      "state": {
       "children": [
        "IPY_MODEL_997a08b0863846a4a7da4df6481eaa26",
        "IPY_MODEL_296adc074baf4e6784412e59f0f33ae3",
        "IPY_MODEL_3fd97c2ec8284636a3aea31fb2891e87"
       ],
       "layout": "IPY_MODEL_48562aaac61f414c838472bb3f461491"
      }
     },
     "296adc074baf4e6784412e59f0f33ae3": {
      "model_module": "@jupyter-widgets/controls",
      "model_module_version": "1.5.0",
      "model_name": "FloatProgressModel",
      "state": {
       "bar_style": "success",
       "layout": "IPY_MODEL_cda3f628d9314152bf933d19ed7a6ea7",
       "max": 3406,
       "style": "IPY_MODEL_c2296e280a6d44b28b0a17c420f49c35",
       "value": 3406
      }
     },
     "3fd97c2ec8284636a3aea31fb2891e87": {
      "model_module": "@jupyter-widgets/controls",
      "model_module_version": "1.5.0",
      "model_name": "HTMLModel",
      "state": {
       "layout": "IPY_MODEL_98182899a83e4961b881c5b56e70719b",
       "style": "IPY_MODEL_02834cd9b83d4f29a4984c53135ee014",
       "value": " 3.41k/3.41k [00:00&lt;00:00, 154kB/s]"
      }
     },
     "48562aaac61f414c838472bb3f461491": {
      "model_module": "@jupyter-widgets/base",
      "model_module_version": "1.2.0",
      "model_name": "LayoutModel",
      "state": {}
     },
     "98182899a83e4961b881c5b56e70719b": {
      "model_module": "@jupyter-widgets/base",
      "model_module_version": "1.2.0",
      "model_name": "LayoutModel",
      "state": {}
     },
     "997a08b0863846a4a7da4df6481eaa26": {
      "model_module": "@jupyter-widgets/controls",
      "model_module_version": "1.5.0",
      "model_name": "HTMLModel",
      "state": {
       "layout": "IPY_MODEL_0bfa3e8091ee4287beb4f988c4235541",
       "style": "IPY_MODEL_ac78fab909c64227808cdeffe63092d1",
       "value": "Downloading: 100%"
      }
     },
     "ac78fab909c64227808cdeffe63092d1": {
      "model_module": "@jupyter-widgets/controls",
      "model_module_version": "1.5.0",
      "model_name": "DescriptionStyleModel",
      "state": {
       "description_width": ""
      }
     },
     "c2296e280a6d44b28b0a17c420f49c35": {
      "model_module": "@jupyter-widgets/controls",
      "model_module_version": "1.5.0",
      "model_name": "ProgressStyleModel",
      "state": {
       "description_width": ""
      }
     },
     "cda3f628d9314152bf933d19ed7a6ea7": {
      "model_module": "@jupyter-widgets/base",
      "model_module_version": "1.2.0",
      "model_name": "LayoutModel",
      "state": {}
     }
    },
    "version_major": 2,
    "version_minor": 0
   }
  }
 },
 "nbformat": 4,
 "nbformat_minor": 1
}
